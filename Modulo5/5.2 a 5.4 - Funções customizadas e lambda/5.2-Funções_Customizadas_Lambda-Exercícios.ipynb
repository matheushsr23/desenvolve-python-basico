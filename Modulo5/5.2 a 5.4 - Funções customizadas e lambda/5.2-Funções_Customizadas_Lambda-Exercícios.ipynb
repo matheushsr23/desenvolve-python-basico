{
 "cells": [
  {
   "cell_type": "markdown",
   "id": "cbdff5a5",
   "metadata": {},
   "source": [
    "# Módulo 5 - Funções\n",
    "\n",
    "## Aulas 5.2 - Funções Customizadas e 5.4 Funções ```lambda```"
   ]
  },
  {
   "cell_type": "markdown",
   "id": "28a3fee2",
   "metadata": {},
   "source": [
    "### Q1.\n",
    "\n",
    "- Sabendo que o código a seguir calcula o fatorial de n, escreva uma função chamada ```fatorial()``` que recebe um inteiro ```n``` como parâmetro e retorna o resultado do fatorial de ```n```. \n",
    "- No programa principal, peça ao usuário o valor de ```n```, chame a sua função e imprima o retorno.\n",
    "\n",
    "```python\n",
    "fat = 1\n",
    "for i in range(1, n+1):\n",
    "    fat *= i \n",
    "```"
   ]
  },
  {
   "cell_type": "code",
   "execution_count": null,
   "id": "d126b3a5",
   "metadata": {},
   "outputs": [],
   "source": [
    "## Crie aqui a função fatorial()\n",
    "## lembre-se de executar a célula para que \n",
    "## a função passe a existir e possa ser chamada\n",
    "def fatorial(n):\n",
    "    fat = 1\n",
    "    for i in range(1, n + 1):\n",
    "        fat *= i\n",
    "    return fat"
   ]
  },
  {
   "cell_type": "code",
   "execution_count": null,
   "id": "6e4fe64e",
   "metadata": {},
   "outputs": [],
   "source": [
    "## Escreva aqui o programa principal e execute a célula\n",
    "\n",
    "n = input(\"Digite um número inteiro para calcular o fatorial: \")\n",
    "\n",
    "if n.isdigit():\n",
    "    n = int(n)\n",
    "    if n < 0:\n",
    "        print(\"Por favor, insira um número inteiro não negativo.\")\n",
    "    else:\n",
    "        resultado = fatorial(n)\n",
    "        print(f\"O fatorial de {n} é {resultado}.\")\n",
    "else:\n",
    "    print(\"Entrada inválida. Por favor, insira um número inteiro.\")"
   ]
  },
  {
   "cell_type": "markdown",
   "id": "c0a1f599",
   "metadata": {},
   "source": [
    "### Q2.\n",
    "\n",
    "- Escreva uma função em Python chamada ```soma_quadrados``` que recebe dois números como parâmetros e retorna a soma dos seus quadrados. \n",
    "- No programa principal solicite ao usuário que insira dois números e utilize a função para exibir a soma dos quadrados."
   ]
  },
  {
   "cell_type": "code",
   "execution_count": null,
   "id": "6dbddaad",
   "metadata": {},
   "outputs": [],
   "source": [
    "## Crie aqui a função soma_quadrados()\n",
    "def soma_quadrados(a, b):\n",
    "    return a**2 + b**2"
   ]
  },
  {
   "cell_type": "code",
   "execution_count": null,
   "id": "9175a7da",
   "metadata": {},
   "outputs": [],
   "source": [
    "\n",
    "try:\n",
    "    \n",
    "    num1 = float(input(\"Digite o primeiro número: \"))\n",
    "    num2 = float(input(\"Digite o segundo número: \"))\n",
    "    \n",
    "    \n",
    "    resultado = soma_quadrados(num1, num2)\n",
    "    \n",
    "    \n",
    "    print(f\"A soma dos quadrados de {num1} e {num2} é {resultado}.\")\n",
    "except ValueError:\n",
    "    print(\"Entrada inválida. Por favor, insira números válidos.\")\n"
   ]
  },
  {
   "cell_type": "markdown",
   "id": "6ba34ce0",
   "metadata": {},
   "source": [
    "### Q3.\n",
    "\n",
    "- Crie uma função em Python chamada ```soma_digitos``` que recebe um número inteiro como parâmetro e retorna a soma dos seus dígitos. Por exemplo, para o número 123, a função deve retornar 6, $(1 + 2 + 3)$.\n",
    "    - O desafio aqui é separar os dígitos de um número inteiro usando operações aritméticas <br> <br>\n",
    "\n",
    "- No programa principal solicite ao usuário que insira um número e utilize a função ```soma_digitos``` para calcular e exibir a soma dos seus dígitos."
   ]
  },
  {
   "cell_type": "code",
   "execution_count": null,
   "id": "34838ebf",
   "metadata": {},
   "outputs": [],
   "source": [
    "\n",
    "def soma_digitos(n):\n",
    "    soma = 0\n",
    "    n = abs(n)  \n",
    "    while n > 0:\n",
    "        digito = n % 10  \n",
    "        soma += digito   \n",
    "        n = n // 10      \n",
    "    return soma\n"
   ]
  },
  {
   "cell_type": "code",
   "execution_count": null,
   "id": "27c35b21",
   "metadata": {},
   "outputs": [],
   "source": [
    "\n",
    "n = int(input(\"Digite um número inteiro: \"))\n",
    "resultado = soma_digitos(n)\n",
    "print(f\"A soma dos dígitos de {n} é {resultado}.\")\n"
   ]
  },
  {
   "cell_type": "markdown",
   "id": "c318b159",
   "metadata": {},
   "source": [
    "### Q4.\n",
    "\n",
    "- Crie a função ```inverteValor()``` que recebe um inteiro de qualquer tamanho e retorna esse valor invertido usando apenas operações aritméticas\n",
    "- Crie a função ```verificaInverso()``` que recebe o valor original e o valor invertido e retorna verdadeiro se ambos forem igualmente par ou igualmente ímpar. Retorne falso caso contrário.\n",
    "- No programa principal, peça um valor do usuário e imprima o retorno de ambas as funções.\n"
   ]
  },
  {
   "cell_type": "code",
   "execution_count": null,
   "id": "e4e47d1d",
   "metadata": {},
   "outputs": [],
   "source": [
    "## Crie aqui as funções inverteValor() e verificaInverso()\n",
    "\n",
    "def inverteValor(n):\n",
    "    invertido = 0\n",
    "    while n != 0:\n",
    "        resto = n % 10\n",
    "        invertido = invertido * 10 + resto\n",
    "        n = n // 10\n",
    "    return invertido\n",
    "\n",
    "def verificaInverso(original, invertido):\n",
    "    par_original = original % 2 == 0\n",
    "    par_invertido = invertido % 2 == 0\n",
    "    return par_original == par_invertido\n"
   ]
  },
  {
   "cell_type": "code",
   "execution_count": null,
   "id": "a9514e56",
   "metadata": {},
   "outputs": [],
   "source": [
    "## Escreva aqui o programa principal e execute a célula\n",
    "\n",
    "try:\n",
    "    valor = int(input(\"Digite um número inteiro: \"))\n",
    "    \n",
    "    valor_invertido = inverteValor(valor)\n",
    "    \n",
    "    resultado = verificaInverso(valor, valor_invertido)\n",
    "    \n",
    "    print(f\"O valor invertido de {valor} é {valor_invertido}.\")\n",
    "    if resultado:\n",
    "        print(\"O número original e seu inverso são igualmente pares ou igualmente ímpares.\")\n",
    "    else:\n",
    "        print(\"O número original e seu inverso não são igualmente pares ou igualmente ímpares.\")\n",
    "except ValueError:\n",
    "    print(\"Entrada inválida. Por favor, insira um número inteiro.\")\n"
   ]
  },
  {
   "cell_type": "markdown",
   "id": "329be966",
   "metadata": {},
   "source": [
    "### Q5.\n",
    "\n",
    "Você está desenvolvendo um programa para auxiliar em cálculos de geometria básica. Crie as seguintes funções:\n",
    "- A função ```calcula_perimetro_triangulo()``` que recebe três inteiros correspondentes aos lados de um triângulo e retorna o perímetro do triângulo, ou seja, a soma dos seus lados.\n",
    "- A função ```calcula_perimetro_circulo()``` que recebe um inteiro referente ao raio do círculo e retorna o perímetro do círculo, dado por $2 \\pi r$. Use a constante $\\pi$ da biblioteca ```math```.\n",
    "- A função ```calcula_perimetro_retangulo()``` que possui um parâmetro obrigatório ```lado1``` e um opcional ```lado2```, ambos inteiros. Se o valor opcional não for fornecido, significa que se trata de um quadrado. Sua função deve calcular e retornar o perímetro do retângulo, ou seja, a soma de seus lados. \n",
    "    - Para o quadrado, é dado por $4 \\times lado1$\n",
    "    - Para o retângulo é dado por $2 \\times lado1 + 2 \\times lado2$\n",
    "    \n",
    "- No programa principal apresente um menu com as opções disponíveis do seu sistema e uma quarta opção ```Sair```. Solicite ao usuário a opção desejada, solicite as entradas correspondentes à opção escolhida, invoque a respective função e apresente o seu retorno. Seu programa deve retornar ao menu até que o usuário escolha a opção ```Sair```\n",
    "\n",
    "Exemplo de interação:\n",
    "```\n",
    "1 - Calcular perímetro triângulo\n",
    "2 - Calcular perímetro círculo\n",
    "3 - Calcular perímetro retângulo\n",
    "4 - Sair\n",
    "\n",
    "Opção: 1\n",
    "Digite os três lados do triângulo:\n",
    "3\n",
    "4\n",
    "5\n",
    "O perímetro é: 12\n",
    "\n",
    "1 - Calcular perímetro triângulo\n",
    "2 - Calcular perímetro círculo\n",
    "3 - Calcular perímetro retângulo\n",
    "4 - Sair\n",
    "\n",
    "Opção: 3\n",
    "Informe os dois lados do retângulo. Se for um quadrado, digite 0 para o segundo valor:\n",
    "5\n",
    "0\n",
    "O perímetro é: 20\n",
    "\n",
    "1 - Calcular perímetro triângulo\n",
    "2 - Calcular perímetro círculo\n",
    "3 - Calcular perímetro retângulo\n",
    "4 - Sair\n",
    "\n",
    "Opção: 4\n",
    "```"
   ]
  },
  {
   "cell_type": "code",
   "execution_count": null,
   "id": "0793d328",
   "metadata": {},
   "outputs": [],
   "source": [
    "## Crie aqui as funções \n",
    "import math\n",
    "\n",
    "def calcula_perimetro_triangulo(lado1, lado2, lado3):\n",
    "    return lado1 + lado2 + lado3\n",
    "\n",
    "def calcula_perimetro_circulo(raio):\n",
    "    return 2 * math.pi * raio\n",
    "\n",
    "def calcula_perimetro_retangulo(lado1, lado2=None):\n",
    "    if lado2 is None:  \n",
    "        return 4 * lado1\n",
    "    else:\n",
    "        return 2 * (lado1 + lado2)\n",
    "\n",
    "def exibir_menu():\n",
    "    print(\"1 - Calcular perímetro triângulo\")\n",
    "    print(\"2 - Calcular perímetro círculo\")\n",
    "    print(\"3 - Calcular perímetro retângulo\")\n",
    "    print(\"4 - Sair\")\n",
    "\n",
    "def main():\n",
    "    while True:\n",
    "        exibir_menu()\n",
    "        opcao = input(\"\\nOpção: \")\n",
    "        \n",
    "        if opcao == '1':\n",
    "            lado1 = float(input(\"Digite o primeiro lado do triângulo: \"))\n",
    "            lado2 = float(input(\"Digite o segundo lado do triângulo: \"))\n",
    "            lado3 = float(input(\"Digite o terceiro lado do triângulo: \"))\n",
    "            perimetro = calcula_perimetro_triangulo(lado1, lado2, lado3)\n",
    "            print(f\"O perímetro do triângulo é: {perimetro}\\n\")\n",
    "        elif opcao == '2':\n",
    "            raio = float(input(\"Digite o raio do círculo: \"))\n",
    "            perimetro = calcula_perimetro_circulo(raio)\n",
    "            print(f\"O perímetro do círculo é: {perimetro}\\n\")\n",
    "        elif opcao == '3':\n",
    "            lado1 = float(input(\"Digite o primeiro lado do retângulo: \"))\n",
    "            lado2 = float(input(\"Digite o segundo lado do retângulo (0 se for um quadrado): \"))\n",
    "            perimetro = calcula_perimetro_retangulo(lado1, lado2)\n",
    "            print(f\"O perímetro do retângulo é: {perimetro}\\n\")\n",
    "        elif opcao == '4':\n",
    "            print(\"Programa encerrado.\")\n",
    "            break\n",
    "        else:\n",
    "            print(\"Opção inválida. Por favor, escolha uma opção válida.\\n\")\n",
    "\n"
   ]
  },
  {
   "cell_type": "code",
   "execution_count": null,
   "id": "36269c71",
   "metadata": {},
   "outputs": [],
   "source": [
    "## Escreva aqui o programa principal \n",
    "main()"
   ]
  },
  {
   "cell_type": "markdown",
   "id": "3016bcc7",
   "metadata": {},
   "source": [
    "## Funções ```lambda```"
   ]
  },
  {
   "cell_type": "markdown",
   "id": "f9cdb8dd",
   "metadata": {},
   "source": [
    "### Q6.\n",
    "\n",
    "Crie uma função lambda para verificar se um número é par ou ímpar. Em seguida, solicite ao usuário um número indefinidos de valores (até que o usuário digite 0). Para cada valor de entrada, informe se é par ou ímpar.\n",
    "\n",
    "Exemplo de interação:\n",
    "```\n",
    "Digite os valores que deseja verificar a paridade (digite 0 para finalizar a entrada de dados):\n",
    "3\n",
    "ímpar\n",
    "8\n",
    "par\n",
    "12\n",
    "par\n",
    "5\n",
    "ímpar\n",
    "7ímpar\n",
    "```"
   ]
  },
  {
   "cell_type": "code",
   "execution_count": null,
   "id": "e3c31a78",
   "metadata": {},
   "outputs": [],
   "source": [
    "\n",
    "verifica_paridade = lambda x: \"par\" if x % 2 == 0 else \"ímpar\"\n",
    "\n",
    "\n",
    "while True:\n",
    "    valor = int(input(\"Digite um valor (digite 0 para finalizar a entrada de dados): \"))\n",
    "    \n",
    "    \n",
    "    if valor == 0:\n",
    "        print(\"Programa encerrado.\")\n",
    "        break\n",
    "    \n",
    "    \n",
    "    resultado = verifica_paridade(valor)\n",
    "    print(resultado)\n"
   ]
  },
  {
   "cell_type": "markdown",
   "id": "5a87474d",
   "metadata": {},
   "source": [
    "### Q7.\n",
    "\n",
    "Escreva um programa que pergunte ao usuário qual operação ele deseja: maior ou menor.\n",
    "Em seguida leia uma quantidade indefinida de valores do usuário, até que o usuário digite o valor zero.\n",
    "Apresente ao final o maior ou menor dos valores digitados de acordo com a escolha do usuário.\n",
    "\n",
    "**Sua solução deve incluir pelo menos uma função ```lambda```** \n",
    "\n",
    "Exemplo de interação:\n",
    "```\n",
    "Opções: (1) maior ou (2) menor?\n",
    "Opção: 1\n",
    "\n",
    "Digite os valores de entrada. Digite 0 para finalizar a entrada de valores.\n",
    "4\n",
    "12\n",
    "15\n",
    "1\n",
    "0\n",
    "\n",
    "O maior valor é: 15\n",
    "```"
   ]
  },
  {
   "cell_type": "code",
   "execution_count": null,
   "id": "ee3f68ca",
   "metadata": {},
   "outputs": [],
   "source": [
    "## Escreva aqui o programa principal \n",
    "encontra_maior = lambda x, y: x if x > y else y\n",
    "\n",
    "encontra_menor = lambda x, y: x if x < y else y\n",
    "\n",
    "print(\"Opções: (1) maior ou (2) menor?\")\n",
    "opcao = int(input(\"Opção: \"))\n",
    "\n",
    "if opcao == 1:\n",
    "    funcao_calculo = encontra_maior\n",
    "    mensagem = \"O maior valor é: \"\n",
    "elif opcao == 2:\n",
    "    funcao_calculo = encontra_menor\n",
    "    mensagem = \"O menor valor é: \"\n",
    "else:\n",
    "    print(\"Opção inválida.\")\n",
    "    exit()\n",
    "\n",
    "valores = []\n",
    "while True:\n",
    "    valor = int(input(\"Digite um valor (digite 0 para finalizar a entrada de valores): \"))\n",
    "    if valor == 0:\n",
    "        break\n",
    "    valores.append(valor)\n",
    "\n",
    "\n",
    "if not valores:\n",
    "    print(\"Nenhum valor foi inserido.\")\n",
    "else:\n",
    "    \n",
    "    resultado = valores[0]\n",
    "    for valor in valores[1:]:\n",
    "        resultado = funcao_calculo(resultado, valor)\n",
    "    \n",
    "    \n",
    "    print(mensagem + str(resultado))\n"
   ]
  }
 ],
 "metadata": {
  "kernelspec": {
   "display_name": "Python 3 (ipykernel)",
   "language": "python",
   "name": "python3"
  },
  "language_info": {
   "codemirror_mode": {
    "name": "ipython",
    "version": 3
   },
   "file_extension": ".py",
   "mimetype": "text/x-python",
   "name": "python",
   "nbconvert_exporter": "python",
   "pygments_lexer": "ipython3",
   "version": "3.9.6"
  }
 },
 "nbformat": 4,
 "nbformat_minor": 5
}
